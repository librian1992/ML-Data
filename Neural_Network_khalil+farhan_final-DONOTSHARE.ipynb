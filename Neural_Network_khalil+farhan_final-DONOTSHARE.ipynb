{
  "nbformat": 4,
  "nbformat_minor": 0,
  "metadata": {
    "colab": {
      "name": "Neural_Network-khalil.ipynb",
      "provenance": []
    },
    "kernelspec": {
      "name": "python3",
      "display_name": "Python 3"
    }
  },
  "cells": [
    {
      "cell_type": "code",
      "metadata": {
        "id": "FD4DNz05AU1j"
      },
      "source": [
        "import csv\n",
        "import pandas as pd\n",
        "\n",
        "# add header names\n",
        "# headers =  ['age', 'sex','chest_pain','resting_blood_pressure',  \n",
        "#         'serum_cholestoral', 'fasting_blood_sugar', 'resting_ecg_results',\n",
        "#         'max_heart_rate_achieved', 'exercise_induced_angina', 'oldpeak',\"slope of the peak\",\n",
        "#         'num_of_major_vessels','thal', 'heart_disease']\n",
        "\n",
        "heart_df = pd.read_csv('https://raw.githubusercontent.com/librian1992/ML-Data/main/heart.csv')"
      ],
      "execution_count": 22,
      "outputs": []
    },
    {
      "cell_type": "code",
      "metadata": {
        "colab": {
          "base_uri": "https://localhost:8080/",
          "height": 197
        },
        "id": "lYgDV6CWCz8T",
        "outputId": "91eabe74-1e6b-438b-e8e2-533e63c19798"
      },
      "source": [
        "heart_df.head()"
      ],
      "execution_count": 23,
      "outputs": [
        {
          "output_type": "execute_result",
          "data": {
            "text/html": [
              "<div>\n",
              "<style scoped>\n",
              "    .dataframe tbody tr th:only-of-type {\n",
              "        vertical-align: middle;\n",
              "    }\n",
              "\n",
              "    .dataframe tbody tr th {\n",
              "        vertical-align: top;\n",
              "    }\n",
              "\n",
              "    .dataframe thead th {\n",
              "        text-align: right;\n",
              "    }\n",
              "</style>\n",
              "<table border=\"1\" class=\"dataframe\">\n",
              "  <thead>\n",
              "    <tr style=\"text-align: right;\">\n",
              "      <th></th>\n",
              "      <th>age</th>\n",
              "      <th>sex</th>\n",
              "      <th>cp</th>\n",
              "      <th>trestbps</th>\n",
              "      <th>chol</th>\n",
              "      <th>fbs</th>\n",
              "      <th>restecg</th>\n",
              "      <th>thalach</th>\n",
              "      <th>exang</th>\n",
              "      <th>oldpeak</th>\n",
              "      <th>slope</th>\n",
              "      <th>ca</th>\n",
              "      <th>thal</th>\n",
              "      <th>target</th>\n",
              "    </tr>\n",
              "  </thead>\n",
              "  <tbody>\n",
              "    <tr>\n",
              "      <th>0</th>\n",
              "      <td>63</td>\n",
              "      <td>1</td>\n",
              "      <td>3</td>\n",
              "      <td>145</td>\n",
              "      <td>233</td>\n",
              "      <td>1</td>\n",
              "      <td>0</td>\n",
              "      <td>150</td>\n",
              "      <td>0</td>\n",
              "      <td>2.3</td>\n",
              "      <td>0</td>\n",
              "      <td>0</td>\n",
              "      <td>1</td>\n",
              "      <td>1</td>\n",
              "    </tr>\n",
              "    <tr>\n",
              "      <th>1</th>\n",
              "      <td>37</td>\n",
              "      <td>1</td>\n",
              "      <td>2</td>\n",
              "      <td>130</td>\n",
              "      <td>250</td>\n",
              "      <td>0</td>\n",
              "      <td>1</td>\n",
              "      <td>187</td>\n",
              "      <td>0</td>\n",
              "      <td>3.5</td>\n",
              "      <td>0</td>\n",
              "      <td>0</td>\n",
              "      <td>2</td>\n",
              "      <td>1</td>\n",
              "    </tr>\n",
              "    <tr>\n",
              "      <th>2</th>\n",
              "      <td>41</td>\n",
              "      <td>0</td>\n",
              "      <td>1</td>\n",
              "      <td>130</td>\n",
              "      <td>204</td>\n",
              "      <td>0</td>\n",
              "      <td>0</td>\n",
              "      <td>172</td>\n",
              "      <td>0</td>\n",
              "      <td>1.4</td>\n",
              "      <td>2</td>\n",
              "      <td>0</td>\n",
              "      <td>2</td>\n",
              "      <td>1</td>\n",
              "    </tr>\n",
              "    <tr>\n",
              "      <th>3</th>\n",
              "      <td>56</td>\n",
              "      <td>1</td>\n",
              "      <td>1</td>\n",
              "      <td>120</td>\n",
              "      <td>236</td>\n",
              "      <td>0</td>\n",
              "      <td>1</td>\n",
              "      <td>178</td>\n",
              "      <td>0</td>\n",
              "      <td>0.8</td>\n",
              "      <td>2</td>\n",
              "      <td>0</td>\n",
              "      <td>2</td>\n",
              "      <td>1</td>\n",
              "    </tr>\n",
              "    <tr>\n",
              "      <th>4</th>\n",
              "      <td>57</td>\n",
              "      <td>0</td>\n",
              "      <td>0</td>\n",
              "      <td>120</td>\n",
              "      <td>354</td>\n",
              "      <td>0</td>\n",
              "      <td>1</td>\n",
              "      <td>163</td>\n",
              "      <td>1</td>\n",
              "      <td>0.6</td>\n",
              "      <td>2</td>\n",
              "      <td>0</td>\n",
              "      <td>2</td>\n",
              "      <td>1</td>\n",
              "    </tr>\n",
              "  </tbody>\n",
              "</table>\n",
              "</div>"
            ],
            "text/plain": [
              "   age  sex  cp  trestbps  chol  fbs  ...  exang  oldpeak  slope  ca  thal  target\n",
              "0   63    1   3       145   233    1  ...      0      2.3      0   0     1       1\n",
              "1   37    1   2       130   250    0  ...      0      3.5      0   0     2       1\n",
              "2   41    0   1       130   204    0  ...      0      1.4      2   0     2       1\n",
              "3   56    1   1       120   236    0  ...      0      0.8      2   0     2       1\n",
              "4   57    0   0       120   354    0  ...      1      0.6      2   0     2       1\n",
              "\n",
              "[5 rows x 14 columns]"
            ]
          },
          "metadata": {
            "tags": []
          },
          "execution_count": 23
        }
      ]
    },
    {
      "cell_type": "code",
      "metadata": {
        "id": "syzt6L61C4fu",
        "colab": {
          "base_uri": "https://localhost:8080/"
        },
        "outputId": "ff88d151-ca49-49df-b048-0e72784cec54"
      },
      "source": [
        "heart_df.shape\n",
        "\n",
        "\n"
      ],
      "execution_count": 24,
      "outputs": [
        {
          "output_type": "execute_result",
          "data": {
            "text/plain": [
              "(303, 14)"
            ]
          },
          "metadata": {
            "tags": []
          },
          "execution_count": 24
        }
      ]
    },
    {
      "cell_type": "code",
      "metadata": {
        "colab": {
          "base_uri": "https://localhost:8080/"
        },
        "id": "sbjpnt3uC-RD",
        "outputId": "fdd0780f-8a5c-4a80-806b-d4cf526436cc"
      },
      "source": [
        "heart_df.isna().sum()"
      ],
      "execution_count": 25,
      "outputs": [
        {
          "output_type": "execute_result",
          "data": {
            "text/plain": [
              "age         0\n",
              "sex         0\n",
              "cp          0\n",
              "trestbps    0\n",
              "chol        0\n",
              "fbs         0\n",
              "restecg     0\n",
              "thalach     0\n",
              "exang       0\n",
              "oldpeak     0\n",
              "slope       0\n",
              "ca          0\n",
              "thal        0\n",
              "target      0\n",
              "dtype: int64"
            ]
          },
          "metadata": {
            "tags": []
          },
          "execution_count": 25
        }
      ]
    },
    {
      "cell_type": "code",
      "metadata": {
        "colab": {
          "base_uri": "https://localhost:8080/"
        },
        "id": "z5lvf28GC_zr",
        "outputId": "69ebe0b3-b9ba-4d5a-8be8-3567e633aae0"
      },
      "source": [
        "heart_df.dtypes"
      ],
      "execution_count": 26,
      "outputs": [
        {
          "output_type": "execute_result",
          "data": {
            "text/plain": [
              "age           int64\n",
              "sex           int64\n",
              "cp            int64\n",
              "trestbps      int64\n",
              "chol          int64\n",
              "fbs           int64\n",
              "restecg       int64\n",
              "thalach       int64\n",
              "exang         int64\n",
              "oldpeak     float64\n",
              "slope         int64\n",
              "ca            int64\n",
              "thal          int64\n",
              "target        int64\n",
              "dtype: object"
            ]
          },
          "metadata": {
            "tags": []
          },
          "execution_count": 26
        }
      ]
    },
    {
      "cell_type": "code",
      "metadata": {
        "id": "34DC6FzjDIAb",
        "colab": {
          "base_uri": "https://localhost:8080/"
        },
        "outputId": "28fd0448-8eca-40e1-9913-0621c1d4aee7"
      },
      "source": [
        "\n",
        "import numpy as np\n",
        "import warnings\n",
        "warnings.filterwarnings(\"ignore\") #suppress warnings\n",
        "import matplotlib.pyplot as plt\n",
        "from sklearn.model_selection import train_test_split\n",
        "from sklearn.preprocessing import StandardScaler\n",
        "\n",
        "#convert imput to numpy arrays\n",
        "X = heart_df.drop(columns=['target'])\n",
        "\n",
        "\n",
        "#replace target class with 0 and 1 \n",
        "#1 means \"have heart disease\" and 0 means \"do not have heart disease\"\n",
        "heart_df['target'] = heart_df['target'].replace(0, 0)\n",
        "heart_df['target'] = heart_df['target'].replace(1, 1)\n",
        "\n",
        "y = heart_df['target'].values.reshape(X.shape[0], 1)\n",
        "\n",
        "#split data into train and test set\n",
        "Xtrain, Xtest, ytrain, ytest = train_test_split(X, y, test_size=0.2, random_state=2)\n",
        "\n",
        "#standardize the dataset\n",
        "sc = StandardScaler()\n",
        "sc.fit(Xtrain)\n",
        "Xtrain = sc.transform(Xtrain)\n",
        "Xtest = sc.transform(Xtest)\n",
        "\n",
        "print(f\"Shape of train set is {Xtrain.shape}\")\n",
        "print(f\"Shape of test set is {Xtest.shape}\")\n",
        "print(f\"Shape of train label is {ytrain.shape}\")\n",
        "print(f\"Shape of test labels is {ytest.shape}\")"
      ],
      "execution_count": 27,
      "outputs": [
        {
          "output_type": "stream",
          "text": [
            "Shape of train set is (242, 13)\n",
            "Shape of test set is (61, 13)\n",
            "Shape of train label is (242, 1)\n",
            "Shape of test labels is (61, 1)\n"
          ],
          "name": "stdout"
        }
      ]
    },
    {
      "cell_type": "code",
      "metadata": {
        "id": "_KwdsBk18H9J"
      },
      "source": [
        "class NeuralNet():\n",
        "    '''\n",
        "    A two layer neural network\n",
        "    '''\n",
        "        \n",
        "    def __init__(self, layers=[13,8,1], learning_rate=0.001, iterations=100):\n",
        "        self.params = {}\n",
        "        self.learning_rate = learning_rate\n",
        "        self.iterations = iterations\n",
        "        self.loss = []\n",
        "        self.sample_size = None\n",
        "        self.layers = layers\n",
        "        self.X = None\n",
        "        self.y = None\n",
        "                \n",
        "    def init_weights(self):\n",
        "        '''\n",
        "        Initialize the weights from a random normal distribution\n",
        "        '''\n",
        "        np.random.seed(1) # Seed the random number generator\n",
        "        self.params[\"W1\"] = np.random.randn(self.layers[0], self.layers[1]) \n",
        "        self.params['b1']  =np.random.randn(self.layers[1],)\n",
        "        self.params['W2'] = np.random.randn(self.layers[1],self.layers[2]) \n",
        "        self.params['b2'] = np.random.randn(self.layers[2],)\n",
        "    \n",
        "    def relu(self,Z):\n",
        "        '''\n",
        "        The ReLu activation function is to performs a threshold\n",
        "        operation to each input element where values less \n",
        "        than zero are set to zero.\n",
        "        '''\n",
        "        return np.maximum(0,Z)\n",
        "\n",
        "    def dRelu(self, x):\n",
        "        x[x<=0] = 0\n",
        "        x[x>0] = 1\n",
        "        return x\n",
        "\n",
        "    def eta(self, x):\n",
        "      ETA = 0.0000000001\n",
        "      return np.maximum(x, ETA)\n",
        "\n",
        "\n",
        "    def sigmoid(self,Z):\n",
        "        '''\n",
        "        The sigmoid function takes in real numbers in any range and \n",
        "        squashes it to a real-valued output between 0 and 1.\n",
        "        '''\n",
        "        return 1/(1+np.exp(-Z))\n",
        "\n",
        "    def entropy_loss(self,y, yhat):\n",
        "        nsample = len(y)\n",
        "        yhat_inv = 1.0 - yhat\n",
        "        y_inv = 1.0 - y\n",
        "        yhat = self.eta(yhat) ## clips value to avoid NaNs in log\n",
        "        yhat_inv = self.eta(yhat_inv) \n",
        "        loss = -1/nsample * (np.sum(np.multiply(np.log(yhat), y) + np.multiply((y_inv), np.log(yhat_inv))))\n",
        "        return loss\n",
        "\n",
        "    def forward_propagation(self):\n",
        "        '''\n",
        "        Performs the forward propagation\n",
        "        '''\n",
        "        \n",
        "        Z1 = self.X.dot(self.params['W1']) + self.params['b1']\n",
        "        A1 = self.relu(Z1)\n",
        "        Z2 = A1.dot(self.params['W2']) + self.params['b2']\n",
        "        yhat = self.sigmoid(Z2)\n",
        "        loss = self.entropy_loss(self.y,yhat)\n",
        "\n",
        "        # save calculated parameters     \n",
        "        self.params['Z1'] = Z1\n",
        "        self.params['Z2'] = Z2\n",
        "        self.params['A1'] = A1\n",
        "\n",
        "        return yhat,loss\n",
        "\n",
        "    def back_propagation(self,yhat):\n",
        "        '''\n",
        "        Computes the derivatives and update weights and bias according.\n",
        "        '''\n",
        "        y_inv = 1 - self.y\n",
        "        yhat_inv = 1 - yhat\n",
        "\n",
        "        dl_wrt_yhat = np.divide(y_inv, self.eta(yhat_inv)) - np.divide(self.y, self.eta(yhat))\n",
        "        dl_wrt_sig = yhat * (yhat_inv)\n",
        "        dl_wrt_z2 = dl_wrt_yhat * dl_wrt_sig\n",
        "\n",
        "        dl_wrt_A1 = dl_wrt_z2.dot(self.params['W2'].T)\n",
        "        dl_wrt_w2 = self.params['A1'].T.dot(dl_wrt_z2)\n",
        "        dl_wrt_b2 = np.sum(dl_wrt_z2, axis=0, keepdims=True)\n",
        "\n",
        "        dl_wrt_z1 = dl_wrt_A1 * self.dRelu(self.params['Z1'])\n",
        "        dl_wrt_w1 = self.X.T.dot(dl_wrt_z1)\n",
        "        dl_wrt_b1 = np.sum(dl_wrt_z1, axis=0, keepdims=True)\n",
        "\n",
        "        #update the weights and bias\n",
        "        self.params['W1'] = self.params['W1'] - self.learning_rate * dl_wrt_w1\n",
        "        self.params['W2'] = self.params['W2'] - self.learning_rate * dl_wrt_w2\n",
        "        self.params['b1'] = self.params['b1'] - self.learning_rate * dl_wrt_b1\n",
        "        self.params['b2'] = self.params['b2'] - self.learning_rate * dl_wrt_b2\n",
        "\n",
        "    def fit(self, X, y):\n",
        "        '''\n",
        "        Trains the neural network using the specified data and labels\n",
        "        '''\n",
        "        self.X = X\n",
        "        self.y = y\n",
        "        self.init_weights() #initialize weights and bias\n",
        "\n",
        "\n",
        "        for i in range(self.iterations):\n",
        "            yhat, loss = self.forward_propagation()\n",
        "            self.back_propagation(yhat)\n",
        "            self.loss.append(loss)\n",
        "\n",
        "    def predict(self, X):\n",
        "        '''\n",
        "        Predicts on a test data\n",
        "        '''\n",
        "        Z1 = X.dot(self.params['W1']) + self.params['b1']\n",
        "        A1 = self.relu(Z1)\n",
        "        Z2 = A1.dot(self.params['W2']) + self.params['b2']\n",
        "        pred = self.sigmoid(Z2)\n",
        "        return np.round(pred) \n",
        "\n",
        "    def acc(self, y, yhat):\n",
        "        '''\n",
        "        Calculates the accutacy between the predicted valuea and the truth labels\n",
        "        '''\n",
        "        acc = int(sum(y == yhat) / len(y) * 100)\n",
        "        return acc\n",
        "\n",
        "\n",
        "    def plot_loss(self):\n",
        "        '''\n",
        "        Plots the loss curve\n",
        "        '''\n",
        "        plt.plot(self.loss)\n",
        "        plt.xlabel(\"Iteration\")\n",
        "        plt.ylabel(\"logloss\")\n",
        "        plt.title(\"Loss curve for training\")\n",
        "        plt.show()\n",
        "\n",
        "\n"
      ],
      "execution_count": 28,
      "outputs": []
    },
    {
      "cell_type": "code",
      "metadata": {
        "id": "BA1967CADmB7"
      },
      "source": [
        "# import numpy as np\n",
        "# import warnings\n",
        "# warnings.filterwarnings(\"ignore\") #suppress warnings\n",
        "# import matplotlib.pyplot as plt\n",
        "# from sklearn.model_selection import train_test_split\n",
        "# from sklearn.preprocessing import StandardScaler\n",
        "\n",
        "# #convert imput to numpy arrays\n",
        "# X = heart_df.drop(columns=['heart_disease'])\n",
        "\n",
        "# #replace target class with 0 and 1 \n",
        "# #1 means \"have heart disease\" and 0 means \"do not have heart disease\"\n",
        "# heart_df['heart_disease'] = heart_df['heart_disease'].replace(1, 0)\n",
        "# heart_df['heart_disease'] = heart_df['heart_disease'].replace(2, 1)\n",
        "\n",
        "# y_label = heart_df['heart_disease'].values.reshape(X.shape[0], 1)\n",
        "\n",
        "# #split data into train and test set\n",
        "# Xtrain, Xtest, ytrain, ytest = train_test_split(X, y_label, test_size=0.2, random_state=2)\n",
        "\n",
        "# #standardize the dataset\n",
        "# sc = StandardScaler()\n",
        "# sc.fit(Xtrain)\n",
        "# Xtrain = sc.transform(Xtrain)\n",
        "# Xtest = sc.transform(Xtest)\n",
        "\n",
        "# print(f\"Shape of train set is {Xtrain.shape}\")\n",
        "# print(f\"Shape of test set is {Xtest.shape}\")\n",
        "# print(f\"Shape of train label is {ytrain.shape}\")\n",
        "# print(f\"Shape of test labels is {ytest.shape}\")"
      ],
      "execution_count": 29,
      "outputs": []
    },
    {
      "cell_type": "code",
      "metadata": {
        "id": "Mb0d12LjF1eL"
      },
      "source": [
        "nn = NeuralNet() # create the NN model\n",
        "nn.fit(Xtrain, ytrain) #train the model"
      ],
      "execution_count": 30,
      "outputs": []
    },
    {
      "cell_type": "code",
      "metadata": {
        "colab": {
          "base_uri": "https://localhost:8080/",
          "height": 294
        },
        "id": "hx5VdpneF6xb",
        "outputId": "98ef5755-1289-40d0-f817-76d9da7508ca"
      },
      "source": [
        "nn.plot_loss()"
      ],
      "execution_count": 31,
      "outputs": [
        {
          "output_type": "display_data",
          "data": {
            "image/png": "[encoded data removed]",
            "text/plain": [
              "<Figure size 432x288 with 1 Axes>"
            ]
          },
          "metadata": {
            "tags": [],
            "needs_background": "light"
          }
        }
      ]
    },
    {
      "cell_type": "code",
      "metadata": {
        "colab": {
          "base_uri": "https://localhost:8080/",
          "height": 294
        },
        "id": "ZrsOH_ZTGC9i",
        "outputId": "3b7907cf-4ace-4d2b-a255-58800cfa2bd2"
      },
      "source": [
        "nn = NeuralNet(layers=[13,10,1], learning_rate=0.01, iterations=500) # create the NN model\n",
        "nn.fit(Xtrain, ytrain) #train the model\n",
        "nn.plot_loss()"
      ],
      "execution_count": 32,
      "outputs": [
        {
          "output_type": "display_data",
          "data": {
            "image/png": "[encoded data removed]",
            "text/plain": [
              "<Figure size 432x288 with 1 Axes>"
            ]
          },
          "metadata": {
            "tags": [],
            "needs_background": "light"
          }
        }
      ]
    },
    {
      "cell_type": "code",
      "metadata": {
        "colab": {
          "base_uri": "https://localhost:8080/"
        },
        "id": "zvhhKtNuGHs6",
        "outputId": "135feedd-deb1-4d39-f589-71ec374bc442"
      },
      "source": [
        "train_pred = nn.predict(Xtrain)\n",
        "test_pred = nn.predict(Xtest)\n",
        "\n",
        "print(\"Train accuracy is {}\".format(nn.acc(ytrain, train_pred)))\n",
        "print(\"Test accuracy is {}\".format(nn.acc(ytest, test_pred)))"
      ],
      "execution_count": 33,
      "outputs": [
        {
          "output_type": "stream",
          "text": [
            "Train accuracy is 100\n",
            "Test accuracy is 85\n"
          ],
          "name": "stdout"
        }
      ]
    },
    {
      "cell_type": "markdown",
      "metadata": {
        "id": "22P3HEtYGjVR"
      },
      "source": [
        "**A 2-Layer Neural Network with scikit-learn**"
      ]
    },
    {
      "cell_type": "code",
      "metadata": {
        "id": "pnM5YX2VGiaj"
      },
      "source": [
        "from sklearn.neural_network import MLPClassifier\n",
        "from sklearn.metrics import accuracy_score\n",
        "\n",
        "sknet = MLPClassifier(hidden_layer_sizes=(8), learning_rate_init=0.001, max_iter=100)"
      ],
      "execution_count": 34,
      "outputs": []
    },
    {
      "cell_type": "code",
      "metadata": {
        "colab": {
          "base_uri": "https://localhost:8080/"
        },
        "id": "n9UQBdF9Gn8L",
        "outputId": "524e5ecc-9eb9-4141-836b-39f2ad2fd888"
      },
      "source": [
        "sknet.fit(Xtrain, ytrain)\n",
        "preds_train = sknet.predict(Xtrain)\n",
        "preds_test = sknet.predict(Xtest)\n",
        "\n",
        "print(\"Train accuracy of sklearn neural network: {}\".format(round(accuracy_score(preds_train, ytrain),2)*100))\n",
        "print(\"Test accuracy of sklearn neural network: {}\".format(round(accuracy_score(preds_test, ytest),2)*100))\n"
      ],
      "execution_count": 35,
      "outputs": [
        {
          "output_type": "stream",
          "text": [
            "Train accuracy of sklearn neural network: 79.0\n",
            "Test accuracy of sklearn neural network: 82.0\n"
          ],
          "name": "stdout"
        }
      ]
    },
    {
      "cell_type": "markdown",
      "metadata": {
        "id": "4Lll8gz2IvXS"
      },
      "source": [
        "**A 2-Layer Neural Network with Keras**"
      ]
    },
    {
      "cell_type": "code",
      "metadata": {
        "id": "-Zt0Jy70Iuk6"
      },
      "source": [
        "from tensorflow.keras import Sequential\n",
        "from tensorflow.keras.layers import Dense\n",
        "from tensorflow.keras.optimizers import Adam\n",
        "\n",
        "# define the model\n",
        "model = Sequential()\n",
        "model.add(Dense(8, input_shape=(13,)))\n",
        "model.add(Dense(1, activation='sigmoid'))"
      ],
      "execution_count": 36,
      "outputs": []
    },
    {
      "cell_type": "code",
      "metadata": {
        "id": "pY1P0hfYI53i"
      },
      "source": [
        "# compile the model\n",
        "opt = Adam(learning_rate=0.001)\n",
        "model.compile(optimizer=opt, loss='binary_crossentropy', metrics=['accuracy'])"
      ],
      "execution_count": 37,
      "outputs": []
    },
    {
      "cell_type": "code",
      "metadata": {
        "colab": {
          "base_uri": "https://localhost:8080/"
        },
        "id": "DhgrfLPPI-qS",
        "outputId": "b931b257-641b-4ea3-f9f4-a9cc12ec1aab"
      },
      "source": [
        "model.fit(Xtrain, ytrain, epochs=100, verbose=0)\n",
        "train_acc = model.evaluate(Xtrain, ytrain, verbose=0)[1]\n",
        "test_acc = model.evaluate(Xtest, ytest, verbose=0)[1]\n",
        "\n",
        "print(\"Train accuracy of keras neural network: {}\".format(round((train_acc * 100), 2)))\n",
        "print(\"Test accuracy of keras neural network: {}\".format(round((test_acc * 100),2)))"
      ],
      "execution_count": 38,
      "outputs": [
        {
          "output_type": "stream",
          "text": [
            "Train accuracy of keras neural network: 82.64\n",
            "Test accuracy of keras neural network: 86.89\n"
          ],
          "name": "stdout"
        }
      ]
    },
    {
      "cell_type": "code",
      "metadata": {
        "id": "fPDyJctSDbgL"
      },
      "source": [
        "\n",
        "\n",
        "#https://raw.githubusercontent.com/krkhalil/ML-Project/main/heart.dat\n",
        "#https://heartbeat.fritz.ai/building-a-neural-network-from-scratch-using-python-part-1-6d399df8d432\n",
        "#https://heartbeat.fritz.ai/building-a-neural-network-from-scratch-using-python-part-2-testing-the-network-c1f0c1c9cbb0\n",
        "\n"
      ],
      "execution_count": 39,
      "outputs": []
    }
  ]
}